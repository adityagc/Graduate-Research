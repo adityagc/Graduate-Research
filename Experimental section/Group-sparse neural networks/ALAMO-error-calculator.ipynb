{
 "cells": [
  {
   "cell_type": "code",
   "execution_count": 15,
   "metadata": {},
   "outputs": [],
   "source": [
    "import pandas as pd\n",
    "import numpy as np\n",
    "from sklearn.metrics import mean_squared_error\n",
    "from sklearn.metrics import r2_score"
   ]
  },
  {
   "cell_type": "code",
   "execution_count": 13,
   "metadata": {},
   "outputs": [
    {
     "name": "stdout",
     "output_type": "stream",
     "text": [
      "[0.47021724 0.76150432 0.23172156 0.76477459 0.73510862 0.41041813\n",
      " 0.58981546 0.74818968 0.28661528 0.90726466 0.48119598 0.27797244\n",
      " 0.42373277 0.60920346 0.63559916 0.61247372 0.39827143 0.68722261\n",
      " 0.09950946 0.2525111  0.51319785 0.52300864 0.17869657 0.57603364\n",
      " 0.58771315 0.47278673 0.47675777 0.64237328 0.59915907 0.76804485\n",
      " 0.28474655 0.44171922 0.79467414 0.50315347 0.3508526  0.54963794\n",
      " 0.45690259 0.55384256 0.54963794 0.5169353  0.58771315 0.74164915\n",
      " 0.69843495 0.40481196 0.8077552  0.20532586 0.38402242 0.57603364]\n",
      "\n",
      "[0.48693473 0.54963794 0.64564354 0.51646811 0.31441252 0.39733707\n",
      " 0.67203924 0.6225181  0.67857977 0.48423266 0.45036206 0.51646811\n",
      " 0.14505957 0.28474655 0.49007241 0.52978276 0.66222845 0.66876898\n",
      " 0.66876898 0.51646811 0.48329829 0.67857977 0.45036206 0.82434011\n",
      " 0.39056295 0.29455735 0.40060733 0.38402242 0.35762672 0.31441252\n",
      " 0.27470217 0.52978276 0.40668068 0.58257416 0.41719224 0.70520906\n",
      " 0.58934828 0.73604298 0.56598925 0.07288017 0.52300864 0.63886942\n",
      " 0.55851437 0.41719224 0.39056295 0.71501986 0.55617846 0.52978276]\n"
     ]
    }
   ],
   "source": [
    "yhat = np.genfromtxt('../ALAMO/predictions.csv')\n",
    "y = np.genfromtxt('../Cleaning/Y_test.csv')\n",
    "print (y)\n",
    "print()\n",
    "print (yhat)"
   ]
  },
  {
   "cell_type": "code",
   "execution_count": 10,
   "metadata": {},
   "outputs": [
    {
     "data": {
      "text/plain": [
       "0.0635921624789638"
      ]
     },
     "execution_count": 10,
     "metadata": {},
     "output_type": "execute_result"
    }
   ],
   "source": [
    "mean_squared_error(yhat, y)"
   ]
  },
  {
   "cell_type": "code",
   "execution_count": 19,
   "metadata": {},
   "outputs": [
    {
     "data": {
      "text/plain": [
       "-0.9085119447915386"
      ]
     },
     "execution_count": 19,
     "metadata": {},
     "output_type": "execute_result"
    }
   ],
   "source": [
    "r2_score(y, yhat)"
   ]
  }
 ],
 "metadata": {
  "kernelspec": {
   "display_name": "Python 3",
   "language": "python",
   "name": "python3"
  },
  "language_info": {
   "codemirror_mode": {
    "name": "ipython",
    "version": 3
   },
   "file_extension": ".py",
   "mimetype": "text/x-python",
   "name": "python",
   "nbconvert_exporter": "python",
   "pygments_lexer": "ipython3",
   "version": "3.6.5"
  }
 },
 "nbformat": 4,
 "nbformat_minor": 2
}
