{
 "cells": [
  {
   "cell_type": "markdown",
   "metadata": {},
   "source": [
    "# Group lasso for neural networks"
   ]
  },
  {
   "cell_type": "markdown",
   "metadata": {},
   "source": [
    "## Imports"
   ]
  },
  {
   "cell_type": "code",
   "execution_count": 1,
   "metadata": {},
   "outputs": [
    {
     "name": "stderr",
     "output_type": "stream",
     "text": [
      "/usr/lib/python3.6/importlib/_bootstrap.py:219: RuntimeWarning: numpy.dtype size changed, may indicate binary incompatibility. Expected 96, got 88\n",
      "  return f(*args, **kwds)\n",
      "/usr/lib/python3.6/importlib/_bootstrap.py:219: RuntimeWarning: numpy.dtype size changed, may indicate binary incompatibility. Expected 96, got 88\n",
      "  return f(*args, **kwds)\n",
      "Using TensorFlow backend.\n"
     ]
    }
   ],
   "source": [
    "import numpy as np\n",
    "import tensorflow as tf\n",
    "import keras\n",
    "from keras import backend as K\n",
    "from keras.models import Sequential\n",
    "from keras.layers import Dense\n",
    "from keras.regularizers import Regularizer\n",
    "from sklearn.metrics import mean_squared_error\n",
    "import matplotlib.pyplot as plt\n",
    "from sklearn.model_selection import cross_val_score\n",
    "from sklearn.model_selection import StratifiedKFold\n",
    "from keras.wrappers.scikit_learn import KerasRegressor"
   ]
  },
  {
   "cell_type": "markdown",
   "metadata": {},
   "source": [
    "## Defining the group lasso penalty"
   ]
  },
  {
   "cell_type": "code",
   "execution_count": 2,
   "metadata": {},
   "outputs": [],
   "source": [
    "class L21(Regularizer):\n",
    "    \"\"\"Regularizer for L21 regularization.\n",
    "    # Arguments\n",
    "        C: Float; L21 regularization factor.\n",
    "    \"\"\"\n",
    "\n",
    "    def __init__(self, C=0.):\n",
    "        self.C = K.cast_to_floatx(C)\n",
    "\n",
    "    def __call__(self, x):\n",
    "        const_coeff = np.sqrt(K.int_shape(x)[1])\n",
    "        return self.C*const_coeff*K.sum(K.sqrt(K.sum(K.square(x), axis=1)))\n",
    "\n",
    "    def get_config(self):\n",
    "        return {'C': float(self.l1)}\n",
    "\n",
    "# Utility function to count active neurons in a Keras model with Dense layers\n",
    "def count_neurons(model):\n",
    "    return np.sum([np.sum(np.sum(np.abs(l.get_weights()[0]), axis=1) > 10**-3) \\\n",
    "                          for l in model.layers])\n",
    "\n",
    "# Callback class to save training loss and the number of neurons\n",
    "class TrainHistory(keras.callbacks.Callback):\n",
    "    def on_train_begin(self, logs={}):\n",
    "        self.losses = []\n",
    "        self.neurons = [count_neurons(self.model)]\n",
    "\n",
    "    def on_batch_end(self, batch, logs={}):\n",
    "        self.losses.append(logs.get('loss'))\n",
    "        self.neurons.append(count_neurons(self.model))"
   ]
  },
  {
   "cell_type": "markdown",
   "metadata": {},
   "source": [
    "## Loading and splitting data"
   ]
  },
  {
   "cell_type": "code",
   "execution_count": 3,
   "metadata": {},
   "outputs": [],
   "source": [
    "X_trn = np.genfromtxt('../Cleaning/X_train.csv', delimiter=',')\n",
    "X_tst = np.genfromtxt('../Cleaning/X_test.csv', delimiter=',')\n",
    "y_trn = np.genfromtxt('../Cleaning/Y_train.csv', delimiter=',')\n",
    "y_tst = np.genfromtxt('../Cleaning/Y_test.csv', delimiter=',')\n",
    "X = np.append(X_trn, X_tst, axis=0)\n",
    "y = np.append(y_trn, y_tst, axis=0)"
   ]
  },
  {
   "cell_type": "code",
   "execution_count": 4,
   "metadata": {},
   "outputs": [],
   "source": [
    "# Reset session\n",
    "# tf.reset_default_graph()\n",
    "# K.set_session(tf.Session())\n",
    "# Get callbacks\n",
    "history = TrainHistory()"
   ]
  },
  {
   "cell_type": "markdown",
   "metadata": {},
   "source": [
    "## Building the group-lasso penalized model"
   ]
  },
  {
   "cell_type": "code",
   "execution_count": 5,
   "metadata": {},
   "outputs": [],
   "source": [
    "def create_network():\n",
    "    model = Sequential()\n",
    "    model.add(Dense(20, input_dim=X_trn.shape[1],  activation='linear', kernel_regularizer=L21(0.001)))\n",
    "    model.add(Dense(15, activation='linear', kernel_regularizer=L21(0.001)))\n",
    "    model.add(Dense(1, activation='linear', kernel_regularizer=L21(0.001)))\n",
    "    #Compiling\n",
    "    model.compile(optimizer='adam', loss='mse')\n",
    "    return model"
   ]
  },
  {
   "cell_type": "markdown",
   "metadata": {},
   "source": [
    "## Sklearn wrapper for Keras model"
   ]
  },
  {
   "cell_type": "code",
   "execution_count": 6,
   "metadata": {},
   "outputs": [],
   "source": [
    "neural_network = KerasRegressor(build_fn=create_network, epochs=1000, batch_size=100, verbose=0)"
   ]
  },
  {
   "cell_type": "markdown",
   "metadata": {},
   "source": [
    "## Calculating cross-validation error"
   ]
  },
  {
   "cell_type": "code",
   "execution_count": 9,
   "metadata": {},
   "outputs": [
    {
     "data": {
      "text/plain": [
       "0.13687651664425582"
      ]
     },
     "execution_count": 9,
     "metadata": {},
     "output_type": "execute_result"
    }
   ],
   "source": [
    "errors = np.abs(cross_val_score(neural_network, X, y, cv=4, scoring='r2', fit_params={'callbacks': [TrainHistory()]}))\n",
    "np.mean(errors)"
   ]
  },
  {
   "cell_type": "code",
   "execution_count": null,
   "metadata": {},
   "outputs": [],
   "source": []
  }
 ],
 "metadata": {
  "kernelspec": {
   "display_name": "Python 3",
   "language": "python",
   "name": "python3"
  },
  "language_info": {
   "codemirror_mode": {
    "name": "ipython",
    "version": 3
   },
   "file_extension": ".py",
   "mimetype": "text/x-python",
   "name": "python",
   "nbconvert_exporter": "python",
   "pygments_lexer": "ipython3",
   "version": "3.6.5"
  }
 },
 "nbformat": 4,
 "nbformat_minor": 2
}
